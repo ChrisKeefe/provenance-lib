{
 "cells": [
  {
   "cell_type": "code",
   "execution_count": 2,
   "id": "ef20b812",
   "metadata": {},
   "outputs": [],
   "source": [
    "import glob\n",
    "import os"
   ]
  },
  {
   "cell_type": "code",
   "execution_count": 6,
   "id": "d5954a52",
   "metadata": {},
   "outputs": [
    {
     "data": {
      "text/plain": [
       "'/home/chris/src/provenance_py/provenance_lib/notebooks/~'"
      ]
     },
     "execution_count": 6,
     "metadata": {},
     "output_type": "execute_result"
    }
   ],
   "source": [
    "# Glob doesn't expand ~, so\n",
    "os.path.realpath('~')"
   ]
  },
  {
   "cell_type": "code",
   "execution_count": 26,
   "id": "f30d6b00",
   "metadata": {},
   "outputs": [
    {
     "data": {
      "text/plain": [
       "['/home/chris/src/provenance_py/provenance_lib/tests/data/table_written_in_dev_version.qza',\n",
       " '/home/chris/src/provenance_py/provenance_lib/tests/data/v5_rarefied_table.qza',\n",
       " '/home/chris/src/provenance_py/provenance_lib/tests/data/v5_rooted_tree.qza',\n",
       " '/home/chris/src/provenance_py/provenance_lib/tests/data/v5_table.qza',\n",
       " '/home/chris/src/provenance_py/provenance_lib/tests/data/v5_unrooted_tree.qza',\n",
       " '/home/chris/src/provenance_py/provenance_lib/tests/data/v0_table.qza']"
      ]
     },
     "execution_count": 26,
     "metadata": {},
     "output_type": "execute_result"
    }
   ],
   "source": [
    "# Basic\n",
    "glob.glob('/home/chris/src/provenance_py/provenance_lib/tests/data/*.qza')"
   ]
  },
  {
   "cell_type": "code",
   "execution_count": 25,
   "id": "6f773a17",
   "metadata": {},
   "outputs": [
    {
     "data": {
      "text/plain": [
       "['/home/chris/src/provenance_py/provenance_lib/tests/data/no_root_md_yaml.qzv',\n",
       " '/home/chris/src/provenance_py/provenance_lib/tests/data/VERSION_bad.qzv',\n",
       " '/home/chris/src/provenance_py/provenance_lib/tests/data/VERSION_long.qzv',\n",
       " '/home/chris/src/provenance_py/provenance_lib/tests/data/VERSION_missing.qzv',\n",
       " '/home/chris/src/provenance_py/provenance_lib/tests/data/VERSION_short.qzv',\n",
       " '/home/chris/src/provenance_py/provenance_lib/tests/data/v1_uu_emperor.qzv',\n",
       " '/home/chris/src/provenance_py/provenance_lib/tests/data/v2a_uu_emperor.qzv',\n",
       " '/home/chris/src/provenance_py/provenance_lib/tests/data/v2b_uu_emperor.qzv',\n",
       " '/home/chris/src/provenance_py/provenance_lib/tests/data/v3_uu_emperor.qzv',\n",
       " '/home/chris/src/provenance_py/provenance_lib/tests/data/v4_uu_emperor.qzv',\n",
       " '/home/chris/src/provenance_py/provenance_lib/tests/data/no_provenance_tagged.qzv',\n",
       " '/home/chris/src/provenance_py/provenance_lib/tests/data/v0_uu_emperor.qzv',\n",
       " '/home/chris/src/provenance_py/provenance_lib/tests/data/v5_uu_emperor.qzv',\n",
       " '/home/chris/src/provenance_py/provenance_lib/tests/data/mixed_v0_v1_uu_emperor.qzv',\n",
       " '/home/chris/src/provenance_py/provenance_lib/tests/data/table_written_in_dev_version.qza',\n",
       " '/home/chris/src/provenance_py/provenance_lib/tests/data/artifact_as_md_v5.qzv',\n",
       " '/home/chris/src/provenance_py/provenance_lib/tests/data/v5_rarefied_table.qza',\n",
       " '/home/chris/src/provenance_py/provenance_lib/tests/data/v5_rooted_tree.qza',\n",
       " '/home/chris/src/provenance_py/provenance_lib/tests/data/v5_table.qza',\n",
       " '/home/chris/src/provenance_py/provenance_lib/tests/data/v5_unrooted_tree.qza',\n",
       " '/home/chris/src/provenance_py/provenance_lib/tests/data/v5_rarefied_table.qzv',\n",
       " '/home/chris/src/provenance_py/provenance_lib/tests/data/md_tabulated_from_art.qzv',\n",
       " '/home/chris/src/provenance_py/provenance_lib/tests/data/v0_table.qza']"
      ]
     },
     "execution_count": 25,
     "metadata": {},
     "output_type": "execute_result"
    }
   ],
   "source": [
    "# qza or qzv\n",
    "glob.glob('/home/chris/src/provenance_py/provenance_lib/tests/data/*.qz[av]')"
   ]
  },
  {
   "cell_type": "code",
   "execution_count": 33,
   "id": "aa48f6fe",
   "metadata": {},
   "outputs": [
    {
     "data": {
      "text/plain": [
       "['/home/chris/src/provenance_py/provenance_lib/tests/data/',\n",
       " '/home/chris/src/provenance_py/provenance_lib/tests/data/Untitled Folder/']"
      ]
     },
     "execution_count": 33,
     "metadata": {},
     "output_type": "execute_result"
    }
   ],
   "source": [
    "# NOTE: Testing the following will look more meaningful with a nested dir containing some .qza/v files\n",
    "\n",
    "# recursive find-directories-only - `/` (os.sep) placed after ** with no following data\n",
    "glob.glob('/home/chris/src/provenance_py/provenance_lib/tests/data/**/', recursive=True)"
   ]
  },
  {
   "cell_type": "code",
   "execution_count": 34,
   "id": "9cf4bd05",
   "metadata": {},
   "outputs": [
    {
     "data": {
      "text/plain": [
       "['/home/chris/src/provenance_py/provenance_lib/tests/data/table_written_in_dev_version.qza',\n",
       " '/home/chris/src/provenance_py/provenance_lib/tests/data/v5_rarefied_table.qza',\n",
       " '/home/chris/src/provenance_py/provenance_lib/tests/data/v5_rooted_tree.qza',\n",
       " '/home/chris/src/provenance_py/provenance_lib/tests/data/v5_table.qza',\n",
       " '/home/chris/src/provenance_py/provenance_lib/tests/data/v5_unrooted_tree.qza',\n",
       " '/home/chris/src/provenance_py/provenance_lib/tests/data/v0_table.qza',\n",
       " '/home/chris/src/provenance_py/provenance_lib/tests/data/Untitled Folder/WOOHOOOOO.qza']"
      ]
     },
     "execution_count": 34,
     "metadata": {},
     "output_type": "execute_result"
    }
   ],
   "source": [
    "# recursive qza\n",
    "glob.glob('/home/chris/src/provenance_py/provenance_lib/tests/data/**/*.qza', recursive=True)"
   ]
  },
  {
   "cell_type": "code",
   "execution_count": 36,
   "id": "30961729",
   "metadata": {},
   "outputs": [
    {
     "data": {
      "text/plain": [
       "['/home/chris/src/provenance_py/provenance_lib/tests/data/no_root_md_yaml.qzv',\n",
       " '/home/chris/src/provenance_py/provenance_lib/tests/data/VERSION_bad.qzv',\n",
       " '/home/chris/src/provenance_py/provenance_lib/tests/data/VERSION_long.qzv',\n",
       " '/home/chris/src/provenance_py/provenance_lib/tests/data/VERSION_missing.qzv',\n",
       " '/home/chris/src/provenance_py/provenance_lib/tests/data/VERSION_short.qzv',\n",
       " '/home/chris/src/provenance_py/provenance_lib/tests/data/v1_uu_emperor.qzv',\n",
       " '/home/chris/src/provenance_py/provenance_lib/tests/data/v2a_uu_emperor.qzv',\n",
       " '/home/chris/src/provenance_py/provenance_lib/tests/data/v2b_uu_emperor.qzv',\n",
       " '/home/chris/src/provenance_py/provenance_lib/tests/data/v3_uu_emperor.qzv',\n",
       " '/home/chris/src/provenance_py/provenance_lib/tests/data/v4_uu_emperor.qzv',\n",
       " '/home/chris/src/provenance_py/provenance_lib/tests/data/no_provenance_tagged.qzv',\n",
       " '/home/chris/src/provenance_py/provenance_lib/tests/data/v0_uu_emperor.qzv',\n",
       " '/home/chris/src/provenance_py/provenance_lib/tests/data/v5_uu_emperor.qzv',\n",
       " '/home/chris/src/provenance_py/provenance_lib/tests/data/mixed_v0_v1_uu_emperor.qzv',\n",
       " '/home/chris/src/provenance_py/provenance_lib/tests/data/table_written_in_dev_version.qza',\n",
       " '/home/chris/src/provenance_py/provenance_lib/tests/data/artifact_as_md_v5.qzv',\n",
       " '/home/chris/src/provenance_py/provenance_lib/tests/data/v5_rarefied_table.qza',\n",
       " '/home/chris/src/provenance_py/provenance_lib/tests/data/v5_rooted_tree.qza',\n",
       " '/home/chris/src/provenance_py/provenance_lib/tests/data/v5_table.qza',\n",
       " '/home/chris/src/provenance_py/provenance_lib/tests/data/v5_unrooted_tree.qza',\n",
       " '/home/chris/src/provenance_py/provenance_lib/tests/data/v5_rarefied_table.qzv',\n",
       " '/home/chris/src/provenance_py/provenance_lib/tests/data/md_tabulated_from_art.qzv',\n",
       " '/home/chris/src/provenance_py/provenance_lib/tests/data/v0_table.qza',\n",
       " '/home/chris/src/provenance_py/provenance_lib/tests/data/Untitled Folder/WOOHOOOOO.qza']"
      ]
     },
     "execution_count": 36,
     "metadata": {},
     "output_type": "execute_result"
    }
   ],
   "source": [
    "# what we want\n",
    "glob.glob('/home/chris/src/provenance_py/provenance_lib/tests/data/**/*.qz[av]', recursive=True)"
   ]
  },
  {
   "cell_type": "code",
   "execution_count": null,
   "id": "68c51eab",
   "metadata": {},
   "outputs": [],
   "source": []
  }
 ],
 "metadata": {
  "kernelspec": {
   "display_name": "Python 3 (ipykernel)",
   "language": "python",
   "name": "python3"
  },
  "language_info": {
   "codemirror_mode": {
    "name": "ipython",
    "version": 3
   },
   "file_extension": ".py",
   "mimetype": "text/x-python",
   "name": "python",
   "nbconvert_exporter": "python",
   "pygments_lexer": "ipython3",
   "version": "3.8.12"
  }
 },
 "nbformat": 4,
 "nbformat_minor": 5
}
