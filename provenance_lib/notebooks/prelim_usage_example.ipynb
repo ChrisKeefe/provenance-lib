{
 "cells": [
  {
   "cell_type": "code",
   "execution_count": 26,
   "id": "9218526f",
   "metadata": {},
   "outputs": [],
   "source": [
    "from qiime2.plugins import ArtifactAPIUsage\n",
    "from q2cli.core.usage import CLIUsage\n",
    "\n",
    "from qiime2.sdk import PluginManager\n",
    "plugin_manager = PluginManager()"
   ]
  },
  {
   "cell_type": "code",
   "execution_count": 27,
   "id": "9ffd20f0",
   "metadata": {},
   "outputs": [],
   "source": [
    "def get_test_data_path(filename):\n",
    "    return pkg_resources.resource_filename('provenance_lib/notebooks',\n",
    "                                           f'/{filename}')"
   ]
  },
  {
   "cell_type": "code",
   "execution_count": 28,
   "id": "f46232f6",
   "metadata": {},
   "outputs": [],
   "source": [
    "def ft1_factory():\n",
    "    from qiime2 import Artifact\n",
    "    return Artifact.import_data(\n",
    "        'FeatureTable[Frequency]',\n",
    "        biom.Table(np.array([[1, 0, 5, 999, 1],\n",
    "                            [0, 1, 2, 0, 5],\n",
    "                            [0, 0, 0, 1, 10]]),\n",
    "                   ['A', 'B', 'C'],\n",
    "                   s_ids_1)\n",
    "    )"
   ]
  },
  {
   "cell_type": "code",
   "execution_count": 58,
   "id": "49d62ddd",
   "metadata": {},
   "outputs": [],
   "source": [
    "def observed_features_example(use):\n",
    "    ft = use.init_artifact('feature_table', ft1_factory)\n",
    "    result, = use.action(\n",
    "        use.UsageAction(plugin_id='diversity_lib',\n",
    "                        action_id='observed_features'),\n",
    "        use.UsageInputs(table=ft),\n",
    "        use.UsageOutputNames(vector='obs_feat_vector'))\n",
    "    return use"
   ]
  },
  {
   "cell_type": "code",
   "execution_count": 59,
   "id": "72c25f45",
   "metadata": {},
   "outputs": [
    {
     "name": "stdout",
     "output_type": "stream",
     "text": [
      "import qiime2.plugins.diversity_lib.actions as diversity_lib_actions\n",
      "\n",
      "obs_feat_vector, = diversity_lib_actions.observed_features(\n",
      "    table=feature_table,\n",
      ")\n",
      "qiime diversity-lib observed-features \\\n",
      "  --i-table feature-table.qza \\\n",
      "  --o-vector obs-feat-vector.qza\n"
     ]
    }
   ],
   "source": [
    "for use in (ArtifactAPIUsage(), CLIUsage()):\n",
    "    ex = observed_features_example(use)\n",
    "    print(ex.render())"
   ]
  },
  {
   "cell_type": "code",
   "execution_count": null,
   "id": "5c52bd39",
   "metadata": {},
   "outputs": [],
   "source": []
  }
 ],
 "metadata": {
  "kernelspec": {
   "display_name": "Python 3 (ipykernel)",
   "language": "python",
   "name": "python3"
  },
  "language_info": {
   "codemirror_mode": {
    "name": "ipython",
    "version": 3
   },
   "file_extension": ".py",
   "mimetype": "text/x-python",
   "name": "python",
   "nbconvert_exporter": "python",
   "pygments_lexer": "ipython3",
   "version": "3.8.12"
  }
 },
 "nbformat": 4,
 "nbformat_minor": 5
}
