{
 "cells": [
  {
   "cell_type": "code",
   "execution_count": 1,
   "id": "9fe8a35a",
   "metadata": {},
   "outputs": [],
   "source": [
    "from qiime2.plugins import ArtifactAPIUsage\n",
    "from qiime2.sdk import PluginManager\n",
    "plugin_manager = PluginManager()\n",
    "use = ArtifactAPIUsage()"
   ]
  },
  {
   "cell_type": "code",
   "execution_count": 2,
   "id": "540e0332",
   "metadata": {},
   "outputs": [
    {
     "data": {
      "text/plain": [
       "''"
      ]
     },
     "execution_count": 2,
     "metadata": {},
     "output_type": "execute_result"
    }
   ],
   "source": [
    "def md_factory():\n",
    "    from urllib import request\n",
    "    from qiime2 import Metadata\n",
    "    fp, _ = request.urlretrieve(\n",
    "        'https://data.qiime2.org/2022.2/tutorials/moving-pictures/sample_metadata.tsv',\n",
    "    )\n",
    "    return Metadata.load(fp)\n",
    "sample_metadata = use.init_metadata('sample_metadata', md_factory)\n",
    "use.render()"
   ]
  },
  {
   "cell_type": "code",
   "execution_count": 3,
   "id": "3c448f68",
   "metadata": {},
   "outputs": [
    {
     "name": "stdout",
     "output_type": "stream",
     "text": [
      "barcode_sequence_mdc = sample_metadata_md.get_column('barcode-sequence')\n"
     ]
    }
   ],
   "source": [
    "# Factory to get sample metadata\n",
    "def md_factory():\n",
    "    from urllib import request\n",
    "    from qiime2 import Metadata\n",
    "    fp, _ = request.urlretrieve('https://data.qiime2.org/2022.2/tutorials/moving-pictures/sample_metadata.tsv')\n",
    "    return Metadata.load(fp)\n",
    "\n",
    "sample_metadata = use.init_metadata('sample_metadata', md_factory)  \n",
    "\n",
    "barcode_sequence = use.get_metadata_column(\n",
    "   'barcode_sequence', 'barcode-sequence', sample_metadata)\n",
    "print(use.render())"
   ]
  },
  {
   "cell_type": "code",
   "execution_count": null,
   "id": "47e12ac4",
   "metadata": {},
   "outputs": [],
   "source": []
  }
 ],
 "metadata": {
  "kernelspec": {
   "display_name": "Python 3 (ipykernel)",
   "language": "python",
   "name": "python3"
  },
  "language_info": {
   "codemirror_mode": {
    "name": "ipython",
    "version": 3
   },
   "file_extension": ".py",
   "mimetype": "text/x-python",
   "name": "python",
   "nbconvert_exporter": "python",
   "pygments_lexer": "ipython3",
   "version": "3.8.12"
  }
 },
 "nbformat": 4,
 "nbformat_minor": 5
}
