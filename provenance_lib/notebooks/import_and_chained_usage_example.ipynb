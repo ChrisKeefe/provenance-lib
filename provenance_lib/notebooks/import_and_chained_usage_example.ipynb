{
 "cells": [
  {
   "cell_type": "code",
   "execution_count": 1,
   "id": "9218526f",
   "metadata": {},
   "outputs": [],
   "source": [
    "import pkg_resources\n",
    "\n",
    "from qiime2.plugins import ArtifactAPIUsage\n",
    "from q2cli.core.usage import CLIUsage\n",
    "\n",
    "from qiime2.sdk import PluginManager\n",
    "plugin_manager = PluginManager()"
   ]
  },
  {
   "cell_type": "code",
   "execution_count": 2,
   "id": "9ffd20f0",
   "metadata": {},
   "outputs": [],
   "source": [
    "local = %pwd\n",
    "def get_test_data_path(filename):\n",
    "    return f'{local}/{filename}'"
   ]
  },
  {
   "cell_type": "code",
   "execution_count": 37,
   "id": "f46232f6",
   "metadata": {},
   "outputs": [
    {
     "name": "stdout",
     "output_type": "stream",
     "text": [
      "/home/chris/src/provenance_py/provenance_lib/notebooks/emp-single-end-sequences/barcodes.fastq.gz\n",
      "/home/chris/src/provenance_py/provenance_lib/notebooks/emp-single-end-sequences/sequences.fastq.gz\n"
     ]
    },
    {
     "data": {
      "text/plain": [
       "<q2_demux._format.EMPSingleEndDirFmt at 0x7fb6251ca400>"
      ]
     },
     "execution_count": 37,
     "metadata": {},
     "output_type": "execute_result"
    }
   ],
   "source": [
    "def emp_seqs_from_disk_factory():\n",
    "    \"\"\"\n",
    "    Returns an EMPSingleEndDirFmt object, by building FastqGzFormat objects for barcodes and seqs\n",
    "    Generally speaking, we must first make a QIIME 2 format object that represents the data, and return that\n",
    "    \n",
    "    In order to handle imports, we'll need:\n",
    "    - the import format\n",
    "    - its parent package\n",
    "    - the FileFormats that comprise it if any\n",
    "    - their parent package\n",
    "    - data getters to handle\n",
    "      - data on disk (fp)\n",
    "      - remote data (urllib.request)\n",
    "      - primitives (qiime2.plugin.util.transform(myprimitive, to_type=ItsFormat)?)\n",
    "    \n",
    "    \"\"\"\n",
    "    import os\n",
    "    import tempfile\n",
    "        \n",
    "    from q2_demux._format import EMPSingleEndDirFmt\n",
    "    from q2_types.per_sample_sequences import FastqGzFormat\n",
    "    \n",
    "    dir_fp = get_test_data_path('emp-single-end-sequences/')\n",
    "    bc_fp = dir_fp + 'barcodes.fastq.gz'\n",
    "    seqs_fp = dir_fp + 'sequences.fastq.gz'\n",
    "    \n",
    "    print(bc_fp)\n",
    "    print(seqs_fp)\n",
    "    \n",
    "    fmt = EMPSingleEndDirFmt(mode='w')\n",
    "    fmt.barcodes.write_data(bc_fp, FastqGzFormat)\n",
    "    fmt.sequences.write_data(seqs_fp, FastqGzFormat)\n",
    "    \n",
    "    fmt.validate()\n",
    "    return fmt\n",
    "\n",
    "def min_emp_seqs_from_disk_factory():\n",
    "    \"\"\"\n",
    "    MINIMALLY:\n",
    "    Returns an EMPSingleEndDirFmt object. \n",
    "    In order to \"handle\" imports minimally, we need only make a QIIME 2 format object and return that\n",
    "    \"\"\"\n",
    "    from q2_demux._format import EMPSingleEndDirFmt\n",
    "    return EMPSingleEndDirFmt(mode='w')\n",
    "\n",
    "def crappy_emp_seqs_from_disk_factory():\n",
    "    return EMPSingleEndDirFmt(mode='w')\n",
    "\n",
    "def empty_emp_seqs_from_disk_factory():\n",
    "    \"\"\"\n",
    "    It looks like we can actually get away with this where we need factories, without sacrificing render-ability.\n",
    "    As such, it may be more readable to use an empty lambda so an xref isn't necessary.\n",
    "    \"\"\"\n",
    "    return\n",
    "\n",
    "emp_seqs_from_disk_factory()"
   ]
  },
  {
   "cell_type": "code",
   "execution_count": 20,
   "id": "448124be",
   "metadata": {},
   "outputs": [],
   "source": [
    "# Factory to get sample metadata\n",
    "def md_factory():\n",
    "    from urllib import request\n",
    "    from qiime2 import Metadata\n",
    "    fp, _ = request.urlretrieve('https://data.qiime2.org/2022.2/tutorials/moving-pictures/sample_metadata.tsv')\n",
    "    return Metadata.load(fp)\n"
   ]
  },
  {
   "cell_type": "code",
   "execution_count": 25,
   "id": "92f807b9",
   "metadata": {},
   "outputs": [
    {
     "name": "stdout",
     "output_type": "stream",
     "text": [
      "<CLIUsageVariable name='raw_emp_se_seqs..fastq.gz', var_type='format'>\n",
      "qiime tools import \\\n",
      "  --type 'EMPSingleEndSequences' \\\n",
      "  --input-format EMPSingleEndDirFmt \\\n",
      "  --input-path raw_emp_se_seqs..fastq.gz \\\n",
      "  --output-path emp-se-seqs.qza\n",
      "qiime demux emp-single \\\n",
      "  --i-seqs emp-se-seqs.qza \\\n",
      "  --m-barcodes-file sample-metadata.tsv \\\n",
      "  --m-barcodes-column barcode-sequence \\\n",
      "  --o-per-sample-sequences demux.qza \\\n",
      "  --o-error-correction-details demux-details.qza \n",
      "\n",
      "<ArtifactAPIUsageVariable name='raw_emp_se_seqs..fastq.gz', var_type='format'>\n",
      "from qiime2 import Artifact\n",
      "import qiime2.plugins.demux.actions as demux_actions\n",
      "\n",
      "emp_se_seqs = Artifact.import_data(\n",
      "    'EMPSingleEndSequences',\n",
      "    'raw_emp_se_seqs..fastq.gz',\n",
      "    'EMPSingleEndDirFmt',\n",
      ")\n",
      "barcode_sequence_mdc = sample_metadata_md.get_column('barcode-sequence')\n",
      "demux, demux_details = demux_actions.emp_single(\n",
      "    seqs=emp_se_seqs,\n",
      "    barcodes=barcode_sequence_mdc,\n",
      ") \n",
      "\n"
     ]
    }
   ],
   "source": [
    "## Once that's done, we can import the data into QIIME 2, assigning it a semantic type (e.g EMPSingleEndSequences)\n",
    "uses = [CLIUsage(), ArtifactAPIUsage()]\n",
    "\n",
    "for use in uses:\n",
    "    raw_emp_se_seqs = use.init_format('raw_emp_se_seqs', emp_seqs_from_disk_factory, ext='.fastq.gz')\n",
    "    print(raw_emp_se_seqs)\n",
    "    seqs = use.import_from_format('emp_se_seqs', semantic_type = 'EMPSingleEndSequences', fmt_variable=raw_emp_se_seqs,\n",
    "                                  view_type='EMPSingleEndDirFmt')\n",
    "\n",
    "    sample_metadata = use.init_metadata('sample_metadata', md_factory)  \n",
    "    \n",
    "    barcode_sequence = use.get_metadata_column(\n",
    "       'barcode_sequence', 'barcode-sequence', sample_metadata)\n",
    "\n",
    "    \n",
    "    demux, demux_details = use.action(\n",
    "       use.UsageAction(plugin_id='demux', action_id='emp_single'),\n",
    "       use.UsageInputs(\n",
    "           seqs=seqs,\n",
    "           barcodes=barcode_sequence,),\n",
    "       use.UsageOutputNames(\n",
    "           per_sample_sequences='demux',\n",
    "           error_correction_details='demux_details',),\n",
    "     )\n",
    "    \n",
    "    print(use.render(), \"\\n\")"
   ]
  },
  {
   "cell_type": "code",
   "execution_count": 39,
   "id": "bce12fba",
   "metadata": {},
   "outputs": [
    {
     "name": "stdout",
     "output_type": "stream",
     "text": [
      "qiime tools import \\\n",
      "  --type 'EMPSingleEndSequences' \\\n",
      "  --input-format EMPSingleEndDirFmt \\\n",
      "  --input-path raw_emp_se_seqs..fastq.gz \\\n",
      "  --output-path emp-se-seqs.qza\n",
      "qiime demux emp-single \\\n",
      "  --i-seqs emp-se-seqs.qza \\\n",
      "  --m-barcodes-file sample-metadata.tsv \\\n",
      "  --m-barcodes-column barcode-sequence \\\n",
      "  --o-per-sample-sequences demux.qza \\\n",
      "  --o-error-correction-details demux-details.qza \n",
      "\n",
      "from qiime2 import Artifact\n",
      "import qiime2.plugins.demux.actions as demux_actions\n",
      "\n",
      "emp_se_seqs = Artifact.import_data(\n",
      "    'EMPSingleEndSequences',\n",
      "    'raw_emp_se_seqs..fastq.gz',\n",
      "    'EMPSingleEndDirFmt',\n",
      ")\n",
      "barcode_sequence_mdc = sample_metadata_md.get_column('barcode-sequence')\n",
      "demux, demux_details = demux_actions.emp_single(\n",
      "    seqs=emp_se_seqs,\n",
      "    barcodes=barcode_sequence_mdc,\n",
      ") \n",
      "\n"
     ]
    }
   ],
   "source": [
    "## Minimal version of the above\n",
    "uses = [CLIUsage(), ArtifactAPIUsage()]\n",
    "\n",
    "for use in uses:\n",
    "    raw_emp_se_seqs = use.init_format('raw_emp_se_seqs', lambda: None, ext='.fastq.gz')\n",
    "    seqs = use.import_from_format('emp_se_seqs', semantic_type = 'EMPSingleEndSequences', fmt_variable=raw_emp_se_seqs,\n",
    "                                  view_type='EMPSingleEndDirFmt')\n",
    "\n",
    "    sample_metadata = use.init_metadata('sample_metadata', lambda: None)  \n",
    "    \n",
    "    barcode_sequence = use.get_metadata_column(\n",
    "       'barcode_sequence', 'barcode-sequence', sample_metadata)\n",
    "    \n",
    "    demux, demux_details = use.action(\n",
    "       use.UsageAction(plugin_id='demux', action_id='emp_single'),\n",
    "       use.UsageInputs(\n",
    "           seqs=seqs,\n",
    "           barcodes=barcode_sequence,),\n",
    "       use.UsageOutputNames(\n",
    "           per_sample_sequences='demux',\n",
    "           error_correction_details='demux_details',),\n",
    "     )\n",
    "    \n",
    "    print(use.render(), \"\\n\")"
   ]
  },
  {
   "cell_type": "code",
   "execution_count": null,
   "id": "71005998",
   "metadata": {},
   "outputs": [],
   "source": []
  }
 ],
 "metadata": {
  "kernelspec": {
   "display_name": "Python 3 (ipykernel)",
   "language": "python",
   "name": "python3"
  },
  "language_info": {
   "codemirror_mode": {
    "name": "ipython",
    "version": 3
   },
   "file_extension": ".py",
   "mimetype": "text/x-python",
   "name": "python",
   "nbconvert_exporter": "python",
   "pygments_lexer": "ipython3",
   "version": "3.8.12"
  }
 },
 "nbformat": 4,
 "nbformat_minor": 5
}
