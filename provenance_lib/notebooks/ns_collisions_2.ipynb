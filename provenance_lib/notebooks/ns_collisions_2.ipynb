{
 "cells": [
  {
   "cell_type": "code",
   "execution_count": 1,
   "id": "adf7457a",
   "metadata": {},
   "outputs": [],
   "source": [
    "from qiime2 import Artifact\n",
    "from qiime2 import Metadata\n",
    "import qiime2.plugins.dada2.actions as dada2_actions\n",
    "import qiime2.plugins.demux.actions as demux_actions\n",
    "import qiime2.plugins.feature_table.actions as feature_table_actions"
   ]
  },
  {
   "cell_type": "code",
   "execution_count": 12,
   "id": "6a60d84c",
   "metadata": {},
   "outputs": [],
   "source": [
    "fn = 'sample-metadata.tsv'\n",
    "metadata_0 = Metadata.load(fn)\n",
    "\n",
    "emp_single_end_sequences_0 = Artifact.import_data(\n",
    "    'EMPSingleEndSequences',\n",
    "    'emp-single-end-sequences',\n",
    ")"
   ]
  },
  {
   "cell_type": "code",
   "execution_count": 17,
   "id": "a4e4a274",
   "metadata": {},
   "outputs": [],
   "source": [
    "barcodes_0_mdc_0 = metadata_0.get_column('barcode-sequence')\n",
    "per_sample_sequences_0, _ = demux_actions.emp_single(\n",
    "    seqs=emp_single_end_sequences_0,\n",
    "    barcodes=barcodes_0_mdc_0,\n",
    "    golay_error_correction=True,\n",
    "    rev_comp_barcodes=False,\n",
    "    rev_comp_mapping_barcodes=True,\n",
    "    ignore_description_mismatch=False,\n",
    ")"
   ]
  },
  {
   "cell_type": "code",
   "execution_count": 18,
   "id": "dc242486",
   "metadata": {},
   "outputs": [
    {
     "name": "stdout",
     "output_type": "stream",
     "text": [
      "Running external command line application(s). This may print messages to stdout and/or stderr.\n",
      "The command(s) being run are below. These commands cannot be manually re-run as they will depend on temporary files that no longer exist.\n",
      "\n",
      "Command: run_dada_single.R /tmp/qiime2-archive-dcw2aua5/4306bd23-4057-4e5e-b3f7-c74ebfe09c99/data /tmp/tmpc5ctituh/output.tsv.biom /tmp/tmpc5ctituh/track.tsv /tmp/tmpc5ctituh 120 0 2.0 2 Inf independent consensus 1.0 0 1000000 NULL 16\n",
      "\n",
      "R version 4.1.1 (2021-08-10) \n"
     ]
    },
    {
     "name": "stderr",
     "output_type": "stream",
     "text": [
      "Loading required package: Rcpp\n"
     ]
    },
    {
     "name": "stdout",
     "output_type": "stream",
     "text": [
      "DADA2: 1.22.0 / Rcpp: 1.0.7 / RcppParallel: 5.1.4 \n",
      "1) Filtering .\n",
      "2) Learning Error Rates\n",
      "3960 total bases in 33 reads from 1 samples will be used for learning the error rates.\n",
      "3) Denoise samples .\n",
      "4) Remove chimeras (method = consensus)\n",
      "5) Report read numbers through the pipeline\n",
      "6) Write output\n"
     ]
    }
   ],
   "source": [
    "table_0, _, _ = dada2_actions.denoise_single(\n",
    "    demultiplexed_seqs=per_sample_sequences_0,\n",
    "    trunc_len=120,\n",
    "    trim_left=0,\n",
    "    max_ee=2.0,\n",
    "    trunc_q=2,\n",
    "    pooling_method='independent',\n",
    "    chimera_method='consensus',\n",
    "    min_fold_parent_over_abundance=1.0,\n",
    "    n_threads=0,\n",
    "    n_reads_learn=1000000,\n",
    "    hashed_feature_ids=True,\n",
    ")"
   ]
  },
  {
   "cell_type": "code",
   "execution_count": 19,
   "id": "c4ed7af2",
   "metadata": {},
   "outputs": [],
   "source": [
    "filtered_table_0, = feature_table_actions.filter_samples(\n",
    "    table=table_0,\n",
    "    min_frequency=1000,\n",
    "    min_features=0,\n",
    "    exclude_ids=False,\n",
    "    filter_empty_features=True,\n",
    ")\n",
    "\n",
    "filtered_table_1, = feature_table_actions.filter_samples(\n",
    "    table=filtered_table_0,\n",
    "    min_frequency=0,\n",
    "    min_features=0,\n",
    "    metadata=metadata_0,\n",
    "    where='\"body-site\"=\"gut\"',\n",
    "    exclude_ids=True,\n",
    "    filter_empty_features=True,\n",
    ")\n",
    "\n",
    "filtered_table_2, = feature_table_actions.filter_samples(\n",
    "    table=filtered_table_1,\n",
    "    min_frequency=0,\n",
    "    min_features=0,\n",
    "    metadata=metadata_0,\n",
    "    where='\"subject\"=\"subject-2\"',\n",
    "    exclude_ids=True,\n",
    "    filter_empty_features=True,\n",
    ")"
   ]
  },
  {
   "cell_type": "code",
   "execution_count": 20,
   "id": "3620ee4b",
   "metadata": {},
   "outputs": [
    {
     "data": {
      "text/plain": [
       "'/home/chris/src/provenance_py/provenance_lib/tests/data/ns_collisions_dupe.qza'"
      ]
     },
     "execution_count": 20,
     "metadata": {},
     "output_type": "execute_result"
    }
   ],
   "source": [
    "filtered_table_2.save('/home/chris/src/provenance_py/provenance_lib/tests/data/ns_collisions_dupe.qza')"
   ]
  },
  {
   "cell_type": "code",
   "execution_count": null,
   "id": "65fd26a9",
   "metadata": {},
   "outputs": [],
   "source": []
  }
 ],
 "metadata": {
  "kernelspec": {
   "display_name": "Python 3 (ipykernel)",
   "language": "python",
   "name": "python3"
  },
  "language_info": {
   "codemirror_mode": {
    "name": "ipython",
    "version": 3
   },
   "file_extension": ".py",
   "mimetype": "text/x-python",
   "name": "python",
   "nbconvert_exporter": "python",
   "pygments_lexer": "ipython3",
   "version": "3.8.12"
  }
 },
 "nbformat": 4,
 "nbformat_minor": 5
}
