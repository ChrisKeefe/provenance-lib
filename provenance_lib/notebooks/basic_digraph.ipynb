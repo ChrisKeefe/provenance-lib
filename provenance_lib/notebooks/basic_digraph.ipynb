{
 "cells": [
  {
   "cell_type": "code",
   "execution_count": 2,
   "metadata": {},
   "outputs": [],
   "source": [
    "import os\n",
    "import sys\n",
    "import networkx as nx\n",
    "import pathlib\n",
    "import matplotlib.pyplot as plt\n",
    "\n",
    "plt.rcParams[\"figure.figsize\"]=10,10\n",
    "\n",
    "\n",
    "sys.path.append('/home/chris/src/provenance_py')\n",
    "\n",
    "if __name__ == \"__main__\" and __package__ is None:\n",
    "    __package__ = \"provenance_lib\"\n",
    "\n",
    "from .parse import ProvDAG, ProvNode, Config\n"
   ]
  },
  {
   "cell_type": "code",
   "execution_count": 3,
   "metadata": {},
   "outputs": [],
   "source": [
    "cwd = os.getcwd()\n",
    "parent = pathlib.Path(cwd).parent\n",
    "DATA_DIR = os.path.join(parent, 'tests/data')\n",
    "qzv = os.path.join(DATA_DIR, 'v5_uu_emperor.qzv')\n",
    "cfg = Config()\n",
    "dag = ProvDAG(archive_fp=qzv)\n",
    "contents = dag.parser_results.prov_digraph\n",
    "nodes = list(contents.values())\n"
   ]
  },
  {
   "cell_type": "code",
   "execution_count": 4,
   "metadata": {},
   "outputs": [
    {
     "name": "stdout",
     "output_type": "stream",
     "text": [
      "[ProvNode(ffb7cee3-2f1f-4988-90cc-efd5184ef003, Visualization, fmt=None), ProvNode(aea3994b-0888-41c1-8e8c-69f6615d07cf, FeatureTable[Frequency], fmt=BIOMV210DirFmt), ProvNode(0af08fa8-48b7-4c6a-83c6-e0f766156343, FeatureTable[Frequency], fmt=BIOMV210DirFmt), ProvNode(bce3d09b-e296-4f2b-9af4-834db6412429, Phylogeny[Rooted], fmt=NewickDirectoryFormat), ProvNode(7ecf8954-e49a-4605-992e-99fcee397935, FeatureData[Sequence], fmt=DNASequencesDirectoryFormat), ProvNode(430a6575-86b3-4cf6-b72e-0f7fce3ed342, FeatureData[AlignedSequence], fmt=AlignedDNASequencesDirectoryFormat), ProvNode(9cc3281a-fefb-408e-8cf0-10637a06d84a, PCoAResults, fmt=OrdinationDirectoryFormat), ProvNode(025e723d-b367-4812-820a-ae8bf8b80af4, DistanceMatrix % Properties(['phylogenetic']), fmt=DistanceMatrixDirectoryFormat), ProvNode(83a80bfd-8954-4571-8fc7-ac9e8435156e, Visualization, fmt=None), ProvNode(89af91c0-033d-4e30-8ac4-f29a3b407dc1, FeatureTable[Frequency], fmt=BIOMV210DirFmt), ProvNode(99fa3670-aa1a-45f6-ba8e-803c976a1163, SampleData[SequencesWithQuality], fmt=SingleLanePerSampleSingleEndFastqDirFmt), ProvNode(d32a5ea6-1ca1-4635-b522-2253568ae35b, Phylogeny[Unrooted], fmt=NewickDirectoryFormat), ProvNode(a35830e1-4535-47c6-aa23-be295a57ee1c, EMPSingleEndSequences, fmt=EMPSingleEndDirFmt), ProvNode(3b7d36ff-37ab-4ac2-958b-6a547d442bcf, Phylogeny[Rooted], fmt=NewickDirectoryFormat), ProvNode(f20cecd6-9f82-4bde-a013-eb327612dc4d, FeatureData[AlignedSequence], fmt=AlignedDNASequencesDirectoryFormat)]\n"
     ]
    }
   ],
   "source": [
    "print(nodes)"
   ]
  },
  {
   "cell_type": "code",
   "execution_count": 5,
   "metadata": {},
   "outputs": [
    {
     "data": {
      "text/plain": [
       "NodeView((ProvNode(ffb7cee3-2f1f-4988-90cc-efd5184ef003, Visualization, fmt=None), ProvNode(aea3994b-0888-41c1-8e8c-69f6615d07cf, FeatureTable[Frequency], fmt=BIOMV210DirFmt), ProvNode(0af08fa8-48b7-4c6a-83c6-e0f766156343, FeatureTable[Frequency], fmt=BIOMV210DirFmt), ProvNode(bce3d09b-e296-4f2b-9af4-834db6412429, Phylogeny[Rooted], fmt=NewickDirectoryFormat), ProvNode(7ecf8954-e49a-4605-992e-99fcee397935, FeatureData[Sequence], fmt=DNASequencesDirectoryFormat), ProvNode(430a6575-86b3-4cf6-b72e-0f7fce3ed342, FeatureData[AlignedSequence], fmt=AlignedDNASequencesDirectoryFormat), ProvNode(9cc3281a-fefb-408e-8cf0-10637a06d84a, PCoAResults, fmt=OrdinationDirectoryFormat), ProvNode(025e723d-b367-4812-820a-ae8bf8b80af4, DistanceMatrix % Properties(['phylogenetic']), fmt=DistanceMatrixDirectoryFormat), ProvNode(83a80bfd-8954-4571-8fc7-ac9e8435156e, Visualization, fmt=None), ProvNode(89af91c0-033d-4e30-8ac4-f29a3b407dc1, FeatureTable[Frequency], fmt=BIOMV210DirFmt), ProvNode(99fa3670-aa1a-45f6-ba8e-803c976a1163, SampleData[SequencesWithQuality], fmt=SingleLanePerSampleSingleEndFastqDirFmt), ProvNode(d32a5ea6-1ca1-4635-b522-2253568ae35b, Phylogeny[Unrooted], fmt=NewickDirectoryFormat), ProvNode(a35830e1-4535-47c6-aa23-be295a57ee1c, EMPSingleEndSequences, fmt=EMPSingleEndDirFmt), ProvNode(3b7d36ff-37ab-4ac2-958b-6a547d442bcf, Phylogeny[Rooted], fmt=NewickDirectoryFormat), ProvNode(f20cecd6-9f82-4bde-a013-eb327612dc4d, FeatureData[AlignedSequence], fmt=AlignedDNASequencesDirectoryFormat)))"
      ]
     },
     "execution_count": 5,
     "metadata": {},
     "output_type": "execute_result"
    }
   ],
   "source": [
    "G = nx.DiGraph()\n",
    "G.add_nodes_from(nodes)\n",
    "G.nodes"
   ]
  },
  {
   "cell_type": "code",
   "execution_count": 6,
   "metadata": {},
   "outputs": [],
   "source": [
    "nx.draw(dag.dag, with_labels=True, font_weight=\"bold\")"
   ]
  },
  {
   "cell_type": "code",
   "execution_count": 7,
   "metadata": {},
   "outputs": [
    {
     "name": "stdout",
     "output_type": "stream",
     "text": [
      "[('89af91c0-033d-4e30-8ac4-f29a3b407dc1', 'ffb7cee3-2f1f-4988-90cc-efd5184ef003'), ('89af91c0-033d-4e30-8ac4-f29a3b407dc1', 'aea3994b-0888-41c1-8e8c-69f6615d07cf'), ('89af91c0-033d-4e30-8ac4-f29a3b407dc1', '0af08fa8-48b7-4c6a-83c6-e0f766156343')]\n"
     ]
    }
   ],
   "source": [
    "# TODO: Why does this query produce multiple results?\n",
    "print(dag.dag.edges(('89af91c0-033d-4e30-8ac4-f29a3b407dc1', 'ffb7cee3-2f1f-4988-90cc-efd5184ef003')))"
   ]
  },
  {
   "cell_type": "code",
   "execution_count": 8,
   "metadata": {},
   "outputs": [
    {
     "data": {
      "text/plain": [
       "OutEdgeDataView([('89af91c0-033d-4e30-8ac4-f29a3b407dc1', 'ffb7cee3-2f1f-4988-90cc-efd5184ef003'), ('89af91c0-033d-4e30-8ac4-f29a3b407dc1', 'aea3994b-0888-41c1-8e8c-69f6615d07cf'), ('89af91c0-033d-4e30-8ac4-f29a3b407dc1', '0af08fa8-48b7-4c6a-83c6-e0f766156343')])"
      ]
     },
     "execution_count": 8,
     "metadata": {},
     "output_type": "execute_result"
    }
   ],
   "source": [
    "# it's an out-edge view?\n",
    "dag.dag.edges(('89af91c0-033d-4e30-8ac4-f29a3b407dc1', 'ffb7cee3-2f1f-4988-90cc-efd5184ef003'))"
   ]
  },
  {
   "cell_type": "code",
   "execution_count": 11,
   "metadata": {},
   "outputs": [],
   "source": [
    "# THIS is how we get the edge data. Index the parent node, then the child node and attribute\n",
    "# NOTE: Edges no longer have any attributes, so this will fail\n",
    "# dag.dag['89af91c0-033d-4e30-8ac4-f29a3b407dc1']['ffb7cee3-2f1f-4988-90cc-efd5184ef003']['type']"
   ]
  },
  {
   "cell_type": "code",
   "execution_count": 31,
   "metadata": {},
   "outputs": [
    {
     "data": {
      "text/plain": [
       "[('89af91c0-033d-4e30-8ac4-f29a3b407dc1',\n",
       "  'ffb7cee3-2f1f-4988-90cc-efd5184ef003'),\n",
       " ('bce3d09b-e296-4f2b-9af4-834db6412429',\n",
       "  'ffb7cee3-2f1f-4988-90cc-efd5184ef003')]"
      ]
     },
     "execution_count": 31,
     "metadata": {},
     "output_type": "execute_result"
    }
   ],
   "source": [
    "# Get in_edges for a single node\n",
    "list(dag.dag.in_edges('ffb7cee3-2f1f-4988-90cc-efd5184ef003'))"
   ]
  },
  {
   "cell_type": "code",
   "execution_count": 30,
   "metadata": {},
   "outputs": [
    {
     "data": {
      "text/plain": [
       "['89af91c0-033d-4e30-8ac4-f29a3b407dc1',\n",
       " 'bce3d09b-e296-4f2b-9af4-834db6412429']"
      ]
     },
     "execution_count": 30,
     "metadata": {},
     "output_type": "execute_result"
    }
   ],
   "source": [
    "# Get a list of parent nodes for a single node\n",
    "_node_id = 'ffb7cee3-2f1f-4988-90cc-efd5184ef003'\n",
    "a = dag.dag.in_edges(_node_id)\n",
    "[edge_pair[0] for edge_pair in a]"
   ]
  },
  {
   "cell_type": "code",
   "execution_count": 13,
   "metadata": {},
   "outputs": [
    {
     "name": "stdout",
     "output_type": "stream",
     "text": [
      "True\n",
      "False\n"
     ]
    }
   ],
   "source": [
    "# Order matters for has_edge too\n",
    "print(dag.has_edge('89af91c0-033d-4e30-8ac4-f29a3b407dc1', 'ffb7cee3-2f1f-4988-90cc-efd5184ef003'))\n",
    "print(dag.has_edge('ffb7cee3-2f1f-4988-90cc-efd5184ef003', '89af91c0-033d-4e30-8ac4-f29a3b407dc1'))"
   ]
  },
  {
   "cell_type": "code",
   "execution_count": null,
   "metadata": {},
   "outputs": [],
   "source": []
  }
 ],
 "metadata": {
  "kernelspec": {
   "display_name": "Python 3",
   "language": "python",
   "name": "python3"
  },
  "language_info": {
   "codemirror_mode": {
    "name": "ipython",
    "version": 3
   },
   "file_extension": ".py",
   "mimetype": "text/x-python",
   "name": "python",
   "nbconvert_exporter": "python",
   "pygments_lexer": "ipython3",
   "version": "3.8.8"
  }
 },
 "nbformat": 4,
 "nbformat_minor": 4
}
