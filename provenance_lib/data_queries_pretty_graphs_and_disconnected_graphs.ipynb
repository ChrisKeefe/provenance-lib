{
 "cells": [
  {
   "cell_type": "code",
   "execution_count": 126,
   "metadata": {},
   "outputs": [],
   "source": [
    "import os\n",
    "import sys\n",
    "import networkx as nx\n",
    "import matplotlib.pyplot as plt\n",
    "\n",
    "plt.rcParams[\"figure.figsize\"]=3,3\n",
    "\n",
    "\n",
    "sys.path.append('/home/chris/src/provenance_py')\n",
    "\n",
    "if __name__ == \"__main__\" and __package__ is None:\n",
    "    __package__ = \"provenance_lib\"\n",
    "\n",
    "from .parse import ProvDAG, ProvNode, Config\n"
   ]
  },
  {
   "cell_type": "code",
   "execution_count": 141,
   "metadata": {},
   "outputs": [],
   "source": [
    "def hierarchy_pos(G, root=None, width=1., vert_gap = 0.2, vert_loc = 0, xcenter = 0.5):\n",
    "\n",
    "    '''\n",
    "    Adapted from Joel's answer at https://stackoverflow.com/a/29597209/2966723.  \n",
    "    Licensed under Creative Commons Attribution-Share Alike \n",
    "    \n",
    "    G: the graph (our single-ProvDAG graphs are always trees)\n",
    "    \n",
    "    root: the root node of current branch \n",
    "    - if the tree is directed and this is not given, \n",
    "      the root will be found and used\n",
    "    - if the tree is directed and this is given, then \n",
    "      the positions will be just for the descendants of this node.\n",
    "    - if the tree is undirected and not given, \n",
    "      then a random choice will be used.\n",
    "    \n",
    "    width: horizontal space allocated for this branch - avoids overlap with other branches\n",
    "    \n",
    "    vert_gap: gap between levels of hierarchy\n",
    "    \n",
    "    vert_loc: vertical location of root\n",
    "    \n",
    "    xcenter: horizontal location of root\n",
    "    '''\n",
    "    if root is None:\n",
    "        if isinstance(G, nx.DiGraph):\n",
    "            root = next(iter(nx.topological_sort(G)))  #allows back compatibility with nx version 1.11\n",
    "        else:\n",
    "            root = random.choice(list(G.nodes))\n",
    "\n",
    "    def _hierarchy_pos(G, root, width=1., vert_gap = 0.2, vert_loc = 0, xcenter = 0.5, pos = None, parent = None):\n",
    "        '''\n",
    "        see hierarchy_pos docstring for most arguments\n",
    "\n",
    "        pos: a dict saying where all nodes go if they have been assigned\n",
    "        parent: parent of this branch. - only affects it if non-directed\n",
    "\n",
    "        '''\n",
    "    \n",
    "        if pos is None:\n",
    "            pos = {root:(xcenter,vert_loc)}\n",
    "        else:\n",
    "            pos[root] = (xcenter, vert_loc)\n",
    "        children = list(G.neighbors(root))\n",
    "        if not isinstance(G, nx.DiGraph) and parent is not None:\n",
    "            children.remove(parent)  \n",
    "        if len(children)!=0:\n",
    "            dx = width/len(children) \n",
    "            nextx = xcenter - width/2 - dx/2\n",
    "            for child in children:\n",
    "                nextx += dx\n",
    "                pos = _hierarchy_pos(G,child, width = dx, vert_gap = vert_gap, \n",
    "                                    vert_loc = vert_loc-vert_gap, xcenter=nextx,\n",
    "                                    pos=pos, parent = root)\n",
    "        return pos\n",
    "\n",
    "            \n",
    "    return _hierarchy_pos(G, root, width, vert_gap, vert_loc, xcenter)"
   ]
  },
  {
   "cell_type": "code",
   "execution_count": 142,
   "metadata": {},
   "outputs": [
    {
     "data": {
      "image/png": "[encoded data removed]",
      "text/plain": [
       "<Figure size 216x216 with 1 Axes>"
      ]
     },
     "metadata": {},
     "output_type": "display_data"
    }
   ],
   "source": [
    "G = nx.DiGraph()\n",
    "G.add_nodes_from([1, 2, 3, 4], att='gerbil')\n",
    "G.add_edge(1, 3)\n",
    "G.add_edge(1, 2)\n",
    "G.add_edge(2, 4)\n",
    "G.nodes\n",
    "\n",
    "pos = hierarchy_pos(G,1)    \n",
    "nx.draw(G, pos=pos, with_labels=True, font_weight=\"bold\")"
   ]
  },
  {
   "cell_type": "code",
   "execution_count": 147,
   "metadata": {},
   "outputs": [
    {
     "data": {
      "image/png": "[encoded data removed]",
      "text/plain": [
       "<Figure size 216x216 with 1 Axes>"
      ]
     },
     "metadata": {},
     "output_type": "display_data"
    }
   ],
   "source": [
    "H = nx.DiGraph()\n",
    "H.add_nodes_from([1, 2, 3, 5], att='gerbil')\n",
    "H.add_edge(1, 2)\n",
    "H.add_edge(1, 3)\n",
    "H.add_edge(3, 5)\n",
    "\n",
    "pos = hierarchy_pos(H,1)    \n",
    "nx.draw(H, pos=pos, with_labels=True, font_weight=\"bold\")"
   ]
  },
  {
   "cell_type": "code",
   "execution_count": 149,
   "metadata": {},
   "outputs": [
    {
     "data": {
      "image/png": "[encoded data removed]",
      "text/plain": [
       "<Figure size 216x216 with 1 Axes>"
      ]
     },
     "metadata": {},
     "output_type": "display_data"
    }
   ],
   "source": [
    "# Compose works as we would expect union to work\n",
    "R = nx.compose(G, H)\n",
    "pos = hierarchy_pos(R, 1) \n",
    "nx.draw(R, pos=pos, with_labels=True, font_weight=\"bold\")"
   ]
  },
  {
   "cell_type": "code",
   "execution_count": 153,
   "metadata": {},
   "outputs": [
    {
     "data": {
      "image/png": "[encoded data removed]",
      "text/plain": [
       "<Figure size 216x216 with 1 Axes>"
      ]
     },
     "metadata": {},
     "output_type": "display_data"
    }
   ],
   "source": [
    "# Repeat the exercise with classes\n",
    "class Point():\n",
    "    def __init__(self, name, x, y):\n",
    "        self.name = name\n",
    "        self.x = x\n",
    "        self.y = y\n",
    "    \n",
    "    def __repr__(self):\n",
    "        return f'{self.name}'\n",
    "        \n",
    "\n",
    "a = Point('a', 0, 0)\n",
    "b = Point('b', 1, 1)\n",
    "c = Point('c', 2, 2)\n",
    "d = Point('d', 3, 3)\n",
    "e = Point('e', 4, 4)\n",
    "\n",
    "I = nx.DiGraph()\n",
    "I.add_nodes_from([a, b, c, d])\n",
    "I.add_edge(a, b)\n",
    "I.add_edge(a, c)\n",
    "I.add_edge(b, d)\n",
    "# Root is None so computes root - use UUID if we do this IRL\n",
    "pos = hierarchy_pos(I) \n",
    "nx.draw(I, pos=pos, with_labels=True, font_weight=\"bold\")"
   ]
  },
  {
   "cell_type": "code",
   "execution_count": 155,
   "metadata": {},
   "outputs": [
    {
     "name": "stdout",
     "output_type": "stream",
     "text": [
      "[0, 1, 2, 3]\n",
      "[(0, {'universal': '555', 'uuid': a}), (1, {'universal': '555', 'uuid': b, 'gerbil': True}), (2, {'universal': '555', 'uuid': c}), (3, {'universal': '555', 'uuid': e})]\n",
      "[(0, a), (1, b), (2, c), (3, e)]\n",
      "[(0, None), (1, True), (2, None), (3, None)]\n",
      "[(0, False), (1, True), (2, False), (3, False)]\n",
      "[1]\n",
      "b\n"
     ]
    },
    {
     "data": {
      "image/png": "[encoded data removed]",
      "text/plain": [
       "<Figure size 216x216 with 1 Axes>"
      ]
     },
     "metadata": {},
     "output_type": "display_data"
    }
   ],
   "source": [
    "J = nx.DiGraph()\n",
    "J.add_nodes_from([a, b, c, e], universal=\"555\")\n",
    "J.add_edge(a, b)\n",
    "J.add_edge(a, c)\n",
    "J.add_edge(c, e)\n",
    "\n",
    "# Poke at names and things\n",
    "J_r = nx.relabel.convert_node_labels_to_integers(J, label_attribute='uuid')\n",
    "J_r.nodes[1]['gerbil'] = True\n",
    "\n",
    "# Demonstrate data access\n",
    "print(J_r.nodes)\n",
    "print(J_r.nodes(data=True))\n",
    "print(J_r.nodes(data=\"uuid\"))\n",
    "print(J_r.nodes(data=\"gerbil\"))\n",
    "# Sets all None values to False\n",
    "print(J_r.nodes(data=\"gerbil\", default = False))\n",
    "pos = hierarchy_pos(J_r)\n",
    "nx.draw(J_r, pos=pos, with_labels=True, font_weight=\"bold\")\n",
    "\n",
    "# Get all nodes with node attribute set in nx node\n",
    "gerbils = [node[0] for node in J_r.nodes(data=\"gerbil\") if node[1] is not None]\n",
    "print(gerbils)\n",
    "\n",
    "# Get all node with node attribute set in Object\n",
    "# This fails, because the 0 in the node view is not the object, it's the int label:\n",
    "# xs = [node[0].x for node in J.nodes(data=True)]\n",
    "\n",
    "J.nodes[b]['universal']\n",
    "# print(<__main__.Point object at 0x7f0768e3ab50>)\n",
    "print(b)"
   ]
  },
  {
   "cell_type": "code",
   "execution_count": 176,
   "metadata": {},
   "outputs": [
    {
     "data": {
      "text/plain": [
       "True"
      ]
     },
     "execution_count": 176,
     "metadata": {},
     "output_type": "execute_result"
    },
    {
     "data": {
      "image/png": "[encoded data removed]",
      "text/plain": [
       "<Figure size 216x216 with 1 Axes>"
      ]
     },
     "metadata": {},
     "output_type": "display_data"
    }
   ],
   "source": [
    "S = nx.compose(I, J)\n",
    "pos = hierarchy_pos(S)\n",
    "nx.draw(S, pos=pos, with_labels=True, font_weight=\"bold\")\n",
    "# Tree required hierarchy_pos\n",
    "nx.is_tree(S)"
   ]
  },
  {
   "cell_type": "code",
   "execution_count": null,
   "metadata": {},
   "outputs": [],
   "source": []
  }
 ],
 "metadata": {
  "kernelspec": {
   "display_name": "Python 3",
   "language": "python",
   "name": "python3"
  },
  "language_info": {
   "codemirror_mode": {
    "name": "ipython",
    "version": 3
   },
   "file_extension": ".py",
   "mimetype": "text/x-python",
   "name": "python",
   "nbconvert_exporter": "python",
   "pygments_lexer": "ipython3",
   "version": "3.8.8"
  }
 },
 "nbformat": 4,
 "nbformat_minor": 4
}
