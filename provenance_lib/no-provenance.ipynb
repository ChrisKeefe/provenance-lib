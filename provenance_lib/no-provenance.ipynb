{
 "cells": [
  {
   "cell_type": "code",
   "execution_count": 1,
   "metadata": {},
   "outputs": [],
   "source": [
    "import os\n",
    "import networkx as nx\n",
    "import matplotlib.pyplot as plt\n",
    "\n",
    "plt.rcParams[\"figure.figsize\"]=10,10\n",
    "\n",
    "# Hack to allow package imports\n",
    "sys.path.append('/home/chris/src/provenance_py')\n",
    "if __name__ == \"__main__\" and __package__ is None:\n",
    "    __package__ = \"provenance_lib\"\n",
    "\n",
    "from .parse import ProvDAG, ProvNode"
   ]
  },
  {
   "cell_type": "code",
   "execution_count": 2,
   "metadata": {},
   "outputs": [
    {
     "name": "stderr",
     "output_type": "stream",
     "text": [
      "/home/chris/src/provenance_py/provenance_lib/parse.py:92: UserWarning: Artifact 34b07e56-27a5-4f03-ae57-ff427b50aaa1 was created prior to provenance tracking. Provenance data will be incomplete.\n",
      "  warnings.warn(f\"Artifact {uuid} was created prior to provenance tracking. \"\n"
     ]
    }
   ],
   "source": [
    "cwd = os.getcwd()\n",
    "DATA_DIR = os.path.join(cwd, 'tests/data')\n",
    "qzv = os.path.join(DATA_DIR, 'no_provenance_tagged.qzv')\n",
    "dag = ProvDAG(qzv)\n",
    "contents = dag._archv_contents\n",
    "nodes = list(contents.values())\n"
   ]
  },
  {
   "cell_type": "code",
   "execution_count": 3,
   "metadata": {},
   "outputs": [
    {
     "data": {
      "text/plain": [
       "{'d9e080bb-e245-4ab0-a2cf-0a89b63b8050': ProvNode(d9e080bb-e245-4ab0-a2cf-0a89b63b8050, Visualization, fmt=None)}"
      ]
     },
     "execution_count": 3,
     "metadata": {},
     "output_type": "execute_result"
    }
   ],
   "source": [
    "contents"
   ]
  },
  {
   "cell_type": "code",
   "execution_count": 4,
   "metadata": {},
   "outputs": [
    {
     "data": {
      "text/plain": [
       "[ProvNode(d9e080bb-e245-4ab0-a2cf-0a89b63b8050, Visualization, fmt=None)]"
      ]
     },
     "execution_count": 4,
     "metadata": {},
     "output_type": "execute_result"
    }
   ],
   "source": [
    "nodes"
   ]
  },
  {
   "cell_type": "code",
   "execution_count": 5,
   "metadata": {},
   "outputs": [
    {
     "data": {
      "text/plain": [
       "{'full_ProvNode_payload': ProvNode(d9e080bb-e245-4ab0-a2cf-0a89b63b8050, Visualization, fmt=None),\n",
       " 'type': 'Visualization',\n",
       " 'format': None,\n",
       " 'framework_version': '2021.4.0',\n",
       " 'archive_version': '5',\n",
       " 'has_provenance': True,\n",
       " 'action_type': 'visualizer',\n",
       " 'plugin': 'feature-table',\n",
       " 'parents': [{'table': '34b07e56-27a5-4f03-ae57-ff427b50aaa1'}],\n",
       " 'runtime': datetime.timedelta(seconds=1, microseconds=898133)}"
      ]
     },
     "execution_count": 5,
     "metadata": {},
     "output_type": "execute_result"
    }
   ],
   "source": [
    "dag.nodes['d9e080bb-e245-4ab0-a2cf-0a89b63b8050']"
   ]
  },
  {
   "cell_type": "code",
   "execution_count": 6,
   "metadata": {},
   "outputs": [
    {
     "data": {
      "text/plain": [
       "{}"
      ]
     },
     "execution_count": 6,
     "metadata": {},
     "output_type": "execute_result"
    }
   ],
   "source": [
    "dag.nodes['34b07e56-27a5-4f03-ae57-ff427b50aaa1']"
   ]
  },
  {
   "cell_type": "code",
   "execution_count": 7,
   "metadata": {},
   "outputs": [
    {
     "data": {
      "image/png": "[encoded data removed]",
      "text/plain": [
       "<Figure size 720x720 with 1 Axes>"
      ]
     },
     "metadata": {},
     "output_type": "display_data"
    }
   ],
   "source": [
    "nx.draw(dag, with_labels=True, font_weight=\"bold\")"
   ]
  },
  {
   "cell_type": "code",
   "execution_count": 8,
   "metadata": {},
   "outputs": [
    {
     "data": {
      "text/plain": [
       "NodeView(('d9e080bb-e245-4ab0-a2cf-0a89b63b8050', '34b07e56-27a5-4f03-ae57-ff427b50aaa1'))"
      ]
     },
     "execution_count": 8,
     "metadata": {},
     "output_type": "execute_result"
    }
   ],
   "source": [
    "dag.nodes"
   ]
  },
  {
   "cell_type": "code",
   "execution_count": 9,
   "metadata": {},
   "outputs": [
    {
     "name": "stdout",
     "output_type": "stream",
     "text": [
      "{'full_ProvNode_payload': ProvNode(d9e080bb-e245-4ab0-a2cf-0a89b63b8050, Visualization, fmt=None), 'type': 'Visualization', 'format': None, 'framework_version': '2021.4.0', 'archive_version': '5', 'has_provenance': True, 'action_type': 'visualizer', 'plugin': 'feature-table', 'parents': [{'table': '34b07e56-27a5-4f03-ae57-ff427b50aaa1'}], 'runtime': datetime.timedelta(seconds=1, microseconds=898133)}\n",
      "\n",
      "{'full_ProvNode_payload': ProvNode(d9e080bb-e245-4ab0-a2cf-0a89b63b8050, Visualization, fmt=None), 'type': 'Visualization', 'format': None, 'framework_version': '2021.4.0', 'archive_version': '5', 'has_provenance': True, 'action_type': 'visualizer', 'plugin': 'feature-table', 'parents': [{'table': '34b07e56-27a5-4f03-ae57-ff427b50aaa1'}], 'runtime': datetime.timedelta(seconds=1, microseconds=898133), 'a': 'gerbil', 'b': 'bar'}\n"
     ]
    }
   ],
   "source": [
    "for node in dag.nodes:\n",
    "    if dag.nodes[node].get('has_provenance'):\n",
    "        print(dag.nodes[node])\n",
    "        dag.nodes[node].update({'a': 'gerbil', 'b': 'bar'})\n",
    "        print()\n",
    "        print(dag.nodes[node])"
   ]
  },
  {
   "cell_type": "code",
   "execution_count": 10,
   "metadata": {},
   "outputs": [
    {
     "name": "stderr",
     "output_type": "stream",
     "text": [
      "/home/chris/src/provenance_py/provenance_lib/parse.py:556: UserWarning: Artifact 0b8b47bd-f2f8-4029-923c-0e37a68340c3 was created prior to provenancetracking. Provenance data will be incomplete.\n",
      "  warnings.warn(f\"Artifact {uuid} was created prior to provenance\" +\n"
     ]
    }
   ],
   "source": [
    "v0qzv = os.path.join(DATA_DIR, 'v0_uu_emperor.qzv')\n",
    "v0dag = ProvDAG(v0qzv)"
   ]
  },
  {
   "cell_type": "code",
   "execution_count": 13,
   "metadata": {},
   "outputs": [
    {
     "data": {
      "text/plain": [
       "NodeView(('0b8b47bd-f2f8-4029-923c-0e37a68340c3',))"
      ]
     },
     "execution_count": 13,
     "metadata": {},
     "output_type": "execute_result"
    }
   ],
   "source": [
    "v0dag.nodes"
   ]
  },
  {
   "cell_type": "code",
   "execution_count": 15,
   "metadata": {},
   "outputs": [
    {
     "data": {
      "text/plain": [
       "{'full_ProvNode_payload': ProvNode(0b8b47bd-f2f8-4029-923c-0e37a68340c3, Visualization, fmt=None),\n",
       " 'type': 'Visualization',\n",
       " 'format': None,\n",
       " 'framework_version': '2.0.5',\n",
       " 'archive_version': '0',\n",
       " 'has_provenance': False}"
      ]
     },
     "execution_count": 15,
     "metadata": {},
     "output_type": "execute_result"
    }
   ],
   "source": [
    "v0dag.nodes['0b8b47bd-f2f8-4029-923c-0e37a68340c3']"
   ]
  },
  {
   "cell_type": "code",
   "execution_count": null,
   "metadata": {},
   "outputs": [],
   "source": []
  }
 ],
 "metadata": {
  "kernelspec": {
   "display_name": "Python 3",
   "language": "python",
   "name": "python3"
  },
  "language_info": {
   "codemirror_mode": {
    "name": "ipython",
    "version": 3
   },
   "file_extension": ".py",
   "mimetype": "text/x-python",
   "name": "python",
   "nbconvert_exporter": "python",
   "pygments_lexer": "ipython3",
   "version": "3.8.8"
  }
 },
 "nbformat": 4,
 "nbformat_minor": 4
}
